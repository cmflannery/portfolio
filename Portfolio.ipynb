{
 "cells": [
  {
   "cell_type": "markdown",
   "metadata": {
    "slideshow": {
     "slide_type": "subslide"
    }
   },
   "source": [
    "# Cameron Flannery | _Aerospace Engineer_\n",
    "![Rockets](resources/launchy.jpg)\n",
    "#### _a portfilio written in a Jupyter Notebook_"
   ]
  },
  {
   "cell_type": "markdown",
   "metadata": {
    "slideshow": {
     "slide_type": "slide"
    }
   },
   "source": [
    "# Senior Design Project | Injector Design\n",
    "<img src=\"img/jacobs-color.png\" alt=\"jacobs-logo\" width=\"400px\" class=\"center\"/>"
   ]
  },
  {
   "cell_type": "markdown",
   "metadata": {
    "slideshow": {
     "slide_type": "slide"
    }
   },
   "source": [
    "## Injctor Design\n",
    "**Challenge:** Design, analyze, and test a new injector for the LR-101 in 6 weeks\n",
    "### Process\n",
    "1. Trade Studies\n",
    "1. Paper calculations\n",
    "1. CAD Design\n",
    "1. Review\n",
    "1. Manufacturing\n",
    "1. Testing\n",
    "<img src=\"img/coaxial_swirl_injector.jpg\" alt=\"swirl-injector\" width=\"400px\" class=\"right\"/>"
   ]
  },
  {
   "cell_type": "code",
   "execution_count": null,
   "metadata": {
    "slideshow": {
     "slide_type": "subslide"
    }
   },
   "outputs": [],
   "source": [
    "from plotly.offline import init_notebook_mode, plot, iplot\n",
    "import plotly.graph_objs as go\n",
    "import pandas as pd\n",
    "import os\n",
    "init_notebook_mode()\n",
    "\n",
    "def gallon2liter(value):\n",
    "    return 3.78541*value\n",
    "\n",
    "df_counters = pd.read_excel(os.path.join(os.getcwd(), 'raw_data', 'run01-counter.xlsx'), skiprows=21)\n",
    "time = list(df_counters['Untitled'][3320:3440]-df_counters['Untitled'][3300])\n",
    "rho_lox = 1.141  # kg/L\n",
    "rho_fuel = 0.8  # kg/L\n",
    "mdot_lox = gallon2liter(df_counters['Untitled 8'][3320:3440])*rho_lox\n",
    "mdot_fuel = gallon2liter(df_counters['Untitled 7'][3320:3440])*rho_fuel\n",
    "data = [go.Scatter(x=time, y=mdot_lox, marker=dict(color='blue'), name='LOx'),\n",
    "        go.Scatter(x=time, y=mdot_fuel, marker=dict(color='red'), name='RP1'),\n",
    "        go.Scatter(x=time, y=mdot_lox/mdot_fuel, marker=dict(color='green'), yaxis='y2',\n",
    "                   line=dict(width=4, dash='dot'), name='Measured Mass Ratio'),\n",
    "        go.Scatter(x=[time[5], time[-44]], y=[1.8, 1.8], marker=dict(color='lightgreen'),\n",
    "                   yaxis='y2', line=dict(width=4, dash='dot'), name='Target Mass Ratio')]\n",
    "layout = dict(title='RUN01 LOX/RP1: MASS FLOW RATES', xaxis=dict(title='Time (s)'),\n",
    "              yaxis=dict(title='Mass Flow Rate (kg/s)'),\n",
    "              yaxis2=dict(title='Mass Ratio', side='right', overlaying='y', range=[-0.2,4]))\n",
    "fig = go.Figure(data=data, layout=layout)\n",
    "iplot(fig)"
   ]
  },
  {
   "cell_type": "markdown",
   "metadata": {
    "slideshow": {
     "slide_type": "slide"
    }
   },
   "source": [
    "# Rocket Propulsion Laboratory\n",
    "### _Chief Engineer & Founder_"
   ]
  },
  {
   "cell_type": "code",
   "execution_count": null,
   "metadata": {
    "slideshow": {
     "slide_type": "subslide"
    }
   },
   "outputs": [],
   "source": [
    "import numpy as np\n",
    "import matplotlib.pyplot as plt\n",
    "\n",
    "x = np.linspace(0,10)\n",
    "y = np.sin(x) + np.cos(2*x)\n",
    "plt.plot(x,y)\n",
    "plt.grid()\n",
    "plt.show()"
   ]
  },
  {
   "cell_type": "code",
   "execution_count": null,
   "metadata": {
    "slideshow": {
     "slide_type": "subslide"
    }
   },
   "outputs": [],
   "source": [
    "t = np.linspace(0,5,500)\n",
    "thrust = 850 # lb"
   ]
  },
  {
   "cell_type": "markdown",
   "metadata": {
    "slideshow": {
     "slide_type": "slide"
    }
   },
   "source": [
    "# SpaceX | 2nd Stage and Satellites\n",
    "### _GN&C - Satellite Ops | Radiation Effects_"
   ]
  },
  {
   "cell_type": "code",
   "execution_count": null,
   "metadata": {
    "slideshow": {
     "slide_type": "slide"
    }
   },
   "outputs": [],
   "source": [
    "def makecubelimits(axis, centers=None, hw=None):\n",
    "    lims = ax.get_xlim(), ax.get_ylim(), ax.get_zlim()\n",
    "    if centers == None:\n",
    "        centers = [0.5*sum(pair) for pair in lims] \n",
    "\n",
    "    if hw == None:\n",
    "        widths  = [pair[1] - pair[0] for pair in lims]\n",
    "        hw      = 0.5*max(widths)\n",
    "        ax.set_xlim(centers[0]-hw, centers[0]+hw)\n",
    "        ax.set_ylim(centers[1]-hw, centers[1]+hw)\n",
    "        ax.set_zlim(centers[2]-hw, centers[2]+hw)\n",
    "        print(\"hw was None so set to:\"), hw\n",
    "    else:\n",
    "        try:\n",
    "            hwx, hwy, hwz = hw\n",
    "            print(\"ok hw requested: \"), hwx, hwy, hwz\n",
    "\n",
    "            ax.set_xlim(centers[0]-hwx, centers[0]+hwx)\n",
    "            ax.set_ylim(centers[1]-hwy, centers[1]+hwy)\n",
    "            ax.set_zlim(centers[2]-hwz, centers[2]+hwz)\n",
    "        except:\n",
    "            print(\"nope hw requested: \"), hw\n",
    "            ax.set_xlim(centers[0]-hw, centers[0]+hw)\n",
    "            ax.set_ylim(centers[1]-hw, centers[1]+hw)\n",
    "            ax.set_zlim(centers[2]-hw, centers[2]+hw)\n",
    "\n",
    "    return centers, hw\n",
    "\n",
    "TLE = \"\"\"1 43205U 18017A   18038.05572532 +.00020608 -51169-6 +11058-3 0  9993\n",
    "2 43205 029.0165 287.1006 3403068 180.4827 179.1544 08.75117793000017\"\"\"\n",
    "L1, L2 = TLE.splitlines()\n",
    "\n",
    "from skyfield.api import Loader, EarthSatellite\n",
    "from skyfield.timelib import Time\n",
    "import numpy as np\n",
    "import matplotlib.pyplot as plt\n",
    "from mpl_toolkits.mplot3d import Axes3D"
   ]
  },
  {
   "cell_type": "markdown",
   "metadata": {
    "slideshow": {
     "slide_type": "slide"
    }
   },
   "source": [
    "# Tesla Motors | Model 3 Drive Unit\n",
    "### _Intern | Manufacturing Engineering_"
   ]
  },
  {
   "cell_type": "code",
   "execution_count": null,
   "metadata": {
    "slideshow": {
     "slide_type": "subslide"
    }
   },
   "outputs": [],
   "source": [
    "import numpy as np\n",
    "import matplotlib.pyplot as plt\n",
    "\n",
    "rate = np.array([0,50,70,100,250,400,800,1250,2500])\n",
    "plt.grid()\n",
    "plt.plot(rate)\n",
    "plt.show()"
   ]
  },
  {
   "cell_type": "markdown",
   "metadata": {},
   "source": [
    "# Some Cool Stuff"
   ]
  },
  {
   "cell_type": "markdown",
   "metadata": {},
   "source": [
    "* Orbital Mechanics (SGP4 Propagator)\n",
    "* Engine Analysis Tool"
   ]
  },
  {
   "cell_type": "markdown",
   "metadata": {
    "slideshow": {
     "slide_type": "notes"
    }
   },
   "source": [
    "## Notes of things to add:\n",
    "- Include something like this: http://gasturbinespower.asmedigitalcollection.asme.org/data/journals/jetpez/931874/gtp_137_07_071503_f002.png\n",
    "- Present leading theories on explosion.. Don't over emphasize any one alone"
   ]
  },
  {
   "cell_type": "code",
   "execution_count": null,
   "metadata": {},
   "outputs": [],
   "source": [
    "import openrocketengine as ore  # TODO: I'll probably have to make this pip-able"
   ]
  },
  {
   "cell_type": "code",
   "execution_count": null,
   "metadata": {},
   "outputs": [],
   "source": []
  }
 ],
 "metadata": {
  "celltoolbar": "Slideshow",
  "kernelspec": {
   "display_name": "Python 3",
   "language": "python",
   "name": "python3"
  },
  "language_info": {
   "codemirror_mode": {
    "name": "ipython",
    "version": 3
   },
   "file_extension": ".py",
   "mimetype": "text/x-python",
   "name": "python",
   "nbconvert_exporter": "python",
   "pygments_lexer": "ipython3",
   "version": "3.6.3"
  }
 },
 "nbformat": 4,
 "nbformat_minor": 2
}
